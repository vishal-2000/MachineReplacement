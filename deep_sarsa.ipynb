{
 "cells": [
  {
   "cell_type": "code",
   "execution_count": 1,
   "metadata": {},
   "outputs": [
    {
     "name": "stdout",
     "output_type": "stream",
     "text": [
      "cuda\n"
     ]
    },
    {
     "data": {
      "text/plain": [
       "<torch._C.Generator at 0x7ff0501ca290>"
      ]
     },
     "execution_count": 1,
     "metadata": {},
     "output_type": "execute_result"
    }
   ],
   "source": [
    "from collections import namedtuple, deque\n",
    "from copy import deepcopy\n",
    "from itertools import count\n",
    "import math\n",
    "import random\n",
    "\n",
    "from torch.utils.tensorboard import SummaryWriter\n",
    "from tqdm.notebook import tqdm\n",
    "import numpy as np\n",
    "import torch\n",
    "import torch.nn as nn\n",
    "import torch.optim as optim\n",
    "import torch.nn.functional as F\n",
    "\n",
    "\n",
    "from env import Env\n",
    "from test_policy import evaluate_policy, print_policy\n",
    "\n",
    "device = torch.device(\"cuda\" if torch.cuda.is_available else \"cpu\")\n",
    "print(device)\n",
    "\n",
    "writer = SummaryWriter(\"runs/deep-sarsa\")\n",
    "random.seed(42)\n",
    "np.random.seed(42)\n",
    "torch.manual_seed(42)"
   ]
  },
  {
   "cell_type": "code",
   "execution_count": 2,
   "metadata": {},
   "outputs": [
    {
     "name": "stdout",
     "output_type": "stream",
     "text": [
      "35\n"
     ]
    }
   ],
   "source": [
    "BATCH_SIZE = 512\n",
    "GAMMA = 1\n",
    "EPS_START = 0.9\n",
    "EPS_END = 0.05\n",
    "EPS_DECAY = 1000\n",
    "TAU = 0.005\n",
    "LR = 1e-4\n",
    "ENV = Env(35)\n",
    "NUM_ACTIONS = ENV.n_actions\n",
    "NUM_STEPS = int(5e3)\n",
    "print(ENV.R)"
   ]
  },
  {
   "cell_type": "code",
   "execution_count": 3,
   "metadata": {},
   "outputs": [],
   "source": [
    "Transition = namedtuple('Transition', ('state', 'action', 'reward', 'next_state','next_action'))\n",
    "\n",
    "class ReplayMemory(object):\n",
    "    def __init__(self, capacity):\n",
    "        self.memory = deque([], maxlen=capacity)\n",
    "    \n",
    "    def push(self, *args):\n",
    "        self.memory.append(Transition(*args))\n",
    "    \n",
    "    def sample(self, batch_size):\n",
    "        return random.sample(self.memory, batch_size)\n",
    "    \n",
    "    def __len__(self):\n",
    "        return len(self.memory)"
   ]
  },
  {
   "cell_type": "code",
   "execution_count": 4,
   "metadata": {},
   "outputs": [],
   "source": [
    "class Q_Network(nn.Module):\n",
    "    def __init__(self):\n",
    "        super().__init__()\n",
    "        self.fc_1 = nn.Linear(1, 32)\n",
    "        self.fc_2 = nn.Linear(32, 32)\n",
    "        self.fc_3 = nn.Linear(32, NUM_ACTIONS)\n",
    "\n",
    "    def forward(self, x):\n",
    "        x = F.relu(self.fc_1(x))\n",
    "        x = F.relu(self.fc_2(x))\n",
    "        x = self.fc_3(x)\n",
    "        \n",
    "        return x"
   ]
  },
  {
   "cell_type": "code",
   "execution_count": 5,
   "metadata": {},
   "outputs": [],
   "source": [
    "policy_net = Q_Network().to(device)\n",
    "target_net = Q_Network().to(device)\n",
    "target_net.load_state_dict(policy_net.state_dict())\n",
    "\n",
    "optimizer = optim.Adam(policy_net.parameters())\n",
    "memory = ReplayMemory(NUM_STEPS)\n",
    "\n",
    "steps_done = 0\n",
    "\n",
    "def select_action(state):\n",
    "    global steps_done\n",
    "    sample = random.random()\n",
    "    eps_threshold = EPS_END + (EPS_START - EPS_END) * \\\n",
    "        math.exp(-1. * steps_done / EPS_DECAY)\n",
    "    steps_done += 1\n",
    "    if sample > eps_threshold:\n",
    "        with torch.no_grad():\n",
    "            return policy_net(state).max(1)[1].view(1, 1)\n",
    "    else:\n",
    "        return torch.tensor([[np.random.randint(0, 2)]], device=device, dtype=torch.long)"
   ]
  },
  {
   "cell_type": "code",
   "execution_count": 6,
   "metadata": {},
   "outputs": [],
   "source": [
    "def optimizer_model(timestep=0, batch_num=0, avg_reward=0):\n",
    "    if len(memory) < BATCH_SIZE:\n",
    "        return\n",
    "    transitions = memory.sample(BATCH_SIZE)\n",
    "    batch = Transition(*zip(*transitions))\n",
    "\n",
    "    state_batch = torch.cat(batch.state)\n",
    "    action_batch = torch.cat(batch.action)\n",
    "    reward_batch = torch.cat(batch.reward)\n",
    "    next_state_batch = torch.cat(batch.next_state)\n",
    "    next_action_batch = torch.cat(batch.next_action)\n",
    "\n",
    "    state_action_values = policy_net(state_batch).gather(1, action_batch)\n",
    "    next_state_values = torch.zeros(BATCH_SIZE, device=device)\n",
    "    with torch.no_grad():\n",
    "            next_state_values = target_net(next_state_batch).gather(1, next_action_batch) \n",
    "    expected_state_action_values = (next_state_values * GAMMA) + reward_batch\n",
    "    criterion = nn.SmoothL1Loss()\n",
    "    loss = criterion(state_action_values, expected_state_action_values.unsqueeze(1))\n",
    "\n",
    "    writer.add_scalar(\"Loss\", loss, timestep)\n",
    "    writer.add_scalar(\"Avg reward (over batch)\", avg_reward, timestep)\n",
    "\n",
    "    optimizer.zero_grad()\n",
    "    loss.backward()\n",
    "    torch.nn.utils.clip_grad_value_(policy_net.parameters(), 100)\n",
    "    optimizer.step()\n",
    "\n",
    "    return loss"
   ]
  },
  {
   "cell_type": "code",
   "execution_count": 7,
   "metadata": {},
   "outputs": [
    {
     "data": {
      "application/vnd.jupyter.widget-view+json": {
       "model_id": "c38ecc8dc308477c8a5822dfdb4fb7a3",
       "version_major": 2,
       "version_minor": 0
      },
      "text/plain": [
       "Steps:   0%|          | 0/4999 [00:00<?, ?it/s]"
      ]
     },
     "metadata": {},
     "output_type": "display_data"
    },
    {
     "name": "stderr",
     "output_type": "stream",
     "text": [
      "/home/persona/miniconda3/envs/TiRL/lib/python3.10/site-packages/torch/nn/modules/loss.py:928: UserWarning: Using a target size (torch.Size([512, 1, 512])) that is different to the input size (torch.Size([512, 1])). This will likely lead to incorrect results due to broadcasting. Please ensure they have the same size.\n",
      "  return F.smooth_l1_loss(input, target, reduction=self.reduction, beta=self.beta)\n"
     ]
    }
   ],
   "source": [
    "cur_state = ENV.reset()\n",
    "cur_state = torch.tensor ([cur_state], dtype=torch.float32, device=device).unsqueeze(0)\n",
    "cur_action = select_action(cur_state)\n",
    "next_state, reward = ENV.step(cur_action.item())\n",
    "next_state = torch.tensor([next_state], dtype=torch.float32, device=device).unsqueeze(0)\n",
    "reward = torch.tensor([reward], device=device)\n",
    "next_action = select_action(next_state)\n",
    "memory.push(cur_state, cur_action, reward, next_state, next_action)\n",
    "\n",
    "for i in tqdm(range(1, NUM_STEPS), desc=\"Steps\", leave=False):\n",
    "    cur_state = deepcopy(next_state)\n",
    "    cur_action = deepcopy(next_action)\n",
    "    next_state, reward = ENV.step(cur_action.item())\n",
    "    next_state = torch.tensor([next_state], dtype=torch.float32, device=device).unsqueeze(0)\n",
    "    reward = torch.tensor([reward], device=device)\n",
    "    next_action = select_action(next_state)\n",
    "    memory.push(cur_state, cur_action, reward, next_state, next_action)\n",
    "\n",
    "    loss = optimizer_model(timestep = i, avg_reward = reward.item())\n",
    "\n",
    "    target_net_state_dict = target_net.state_dict()\n",
    "    policy_net_state_dict = policy_net.state_dict()\n",
    "    for key in policy_net_state_dict:\n",
    "        target_net_state_dict[key] = policy_net_state_dict[key]*TAU + target_net_state_dict[key]*(1-TAU)\n",
    "    target_net.load_state_dict(target_net_state_dict)\n",
    "\n",
    "    if i%100 == 0:\n",
    "        SAVE_PATH = './checkpoints/DeepSARSA/DeepSARSA_{}.pt'.format(i)\n",
    "        target_net.load_state_dict(policy_net.state_dict())\n",
    "        torch.save(policy_net.state_dict(), SAVE_PATH)"
   ]
  },
  {
   "cell_type": "code",
   "execution_count": 8,
   "metadata": {},
   "outputs": [
    {
     "data": {
      "application/vnd.jupyter.widget-view+json": {
       "model_id": "7ac828adba214b87ba9ac5efcea869aa",
       "version_major": 2,
       "version_minor": 0
      },
      "text/plain": [
       "Evaluating:   0%|          | 0/49 [00:00<?, ?it/s]"
      ]
     },
     "metadata": {},
     "output_type": "display_data"
    },
    {
     "name": "stdout",
     "output_type": "stream",
     "text": [
      "1 1 1 1 1 1 1 1 1 1 1 1 1 1 1 1 1 1 1 1 1 1 1 1 1 \n",
      "1 1 0 0 0 0 0 0 0 0 0 0 0 0 0 0 0 0 0 0 0 0 0 0 0 \n",
      "0 0 0 0 0 0 0 0 0 0 0 0 0 0 0 0 0 0 0 0 0 0 0 0 0 \n",
      "0 0 0 0 0 0 0 0 0 0 0 0 0 0 0 0 0 0 0 0 0 0 0 0 0 \n"
     ]
    }
   ],
   "source": [
    "best_reward = -torch.inf\n",
    "best_policy = Q_Network()\n",
    "for i in tqdm(range(100, NUM_STEPS, 100), desc=\"Evaluating\", leave=False):\n",
    "    LOAD_PATH = f'./checkpoints/DeepSARSA/DeepSARSA_{i}.pt'\n",
    "    policy_net = Q_Network().to(device)\n",
    "    checkpoint = torch.load(LOAD_PATH)\n",
    "    policy_net.load_state_dict(checkpoint)\n",
    "    reward = evaluate_policy(ENV, policy_net)\n",
    "    writer.add_scalar(\"Reward (over policy)\", reward, i)\n",
    "    if reward > best_reward:\n",
    "        best_reward = reward\n",
    "        best_policy = deepcopy(policy_net)\n",
    "\n",
    "print_policy(best_policy)"
   ]
  }
 ],
 "metadata": {
  "kernelspec": {
   "display_name": "toy_diffusion",
   "language": "python",
   "name": "python3"
  },
  "language_info": {
   "codemirror_mode": {
    "name": "ipython",
    "version": 3
   },
   "file_extension": ".py",
   "mimetype": "text/x-python",
   "name": "python",
   "nbconvert_exporter": "python",
   "pygments_lexer": "ipython3",
   "version": "3.10.10"
  },
  "orig_nbformat": 4,
  "vscode": {
   "interpreter": {
    "hash": "518fb82a0e41517364b8f57b2672a10bd7dfd011741d35e3037a09c2be57420f"
   }
  }
 },
 "nbformat": 4,
 "nbformat_minor": 2
}
