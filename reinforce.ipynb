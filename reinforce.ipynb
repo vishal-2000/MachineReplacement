{
 "cells": [
  {
   "cell_type": "code",
   "execution_count": 1,
   "metadata": {},
   "outputs": [
    {
     "name": "stderr",
     "output_type": "stream",
     "text": [
      "Failed to detect the name of this notebook, you can set it manually with the WANDB_NOTEBOOK_NAME environment variable to enable code saving.\n",
      "\u001b[34m\u001b[1mwandb\u001b[0m: Currently logged in as: \u001b[33mvishalrm\u001b[0m. Use \u001b[1m`wandb login --relogin`\u001b[0m to force relogin\n"
     ]
    },
    {
     "data": {
      "text/html": [
       "Tracking run with wandb version 0.15.2"
      ],
      "text/plain": [
       "<IPython.core.display.HTML object>"
      ]
     },
     "metadata": {},
     "output_type": "display_data"
    },
    {
     "data": {
      "text/html": [
       "Run data is saved locally in <code>/Users/vishal/Desktop/acads/Intro to RL/codes/MachineReplacement/wandb/run-20230510_221950-Reinforce21</code>"
      ],
      "text/plain": [
       "<IPython.core.display.HTML object>"
      ]
     },
     "metadata": {},
     "output_type": "display_data"
    },
    {
     "data": {
      "text/html": [
       "Syncing run <strong><a href='https://wandb.ai/vishalrm/REINFORCE2_MachineReplacement/runs/Reinforce21' target=\"_blank\">Reinforce21</a></strong> to <a href='https://wandb.ai/vishalrm/REINFORCE2_MachineReplacement' target=\"_blank\">Weights & Biases</a> (<a href='https://wandb.me/run' target=\"_blank\">docs</a>)<br/>"
      ],
      "text/plain": [
       "<IPython.core.display.HTML object>"
      ]
     },
     "metadata": {},
     "output_type": "display_data"
    },
    {
     "data": {
      "text/html": [
       " View project at <a href='https://wandb.ai/vishalrm/REINFORCE2_MachineReplacement' target=\"_blank\">https://wandb.ai/vishalrm/REINFORCE2_MachineReplacement</a>"
      ],
      "text/plain": [
       "<IPython.core.display.HTML object>"
      ]
     },
     "metadata": {},
     "output_type": "display_data"
    },
    {
     "data": {
      "text/html": [
       " View run at <a href='https://wandb.ai/vishalrm/REINFORCE2_MachineReplacement/runs/Reinforce21' target=\"_blank\">https://wandb.ai/vishalrm/REINFORCE2_MachineReplacement/runs/Reinforce21</a>"
      ],
      "text/plain": [
       "<IPython.core.display.HTML object>"
      ]
     },
     "metadata": {},
     "output_type": "display_data"
    }
   ],
   "source": [
    "import torch\n",
    "import torch.nn as nn\n",
    "import torch.optim as optim\n",
    "import torch.nn.functional as F\n",
    "import random\n",
    "from env import Env\n",
    "import numpy as np\n",
    "import wandb\n",
    "import copy\n",
    "\n",
    "# wandb setup\n",
    "number = 1\n",
    "NAME = \"Reinforce2\" + str(number)\n",
    "ID = \"Reinforce2\" + str(number)\n",
    "run = wandb.init(project='REINFORCE2_MachineReplacement', name = NAME, id = ID)\n",
    "\n",
    "device = torch.device(\"cuda\" if torch.cuda.is_available() else \"cpu\")"
   ]
  },
  {
   "cell_type": "code",
   "execution_count": null,
   "metadata": {},
   "outputs": [],
   "source": [
    "# Define the policy network\n",
    "class PolicyNetwork(nn.Module):\n",
    "    def __init__(self, n_observations, n_actions):\n",
    "        super(PolicyNetwork, self).__init__()\n",
    "        self.layer1 = nn.Linear(n_observations, 16)\n",
    "        self.layer2 = nn.Linear(16, 16)\n",
    "        self.layer3 = nn.Linear(16, n_actions)\n",
    "\n",
    "    def forward(self, state):\n",
    "        x = F.relu(self.layer1(state))\n",
    "        x = F.relu(self.layer2(x))\n",
    "        output = F.softmax(self.layer3(x), dim=1)\n",
    "        return output"
   ]
  },
  {
   "cell_type": "code",
   "execution_count": null,
   "metadata": {},
   "outputs": [],
   "source": [
    "n_actions = 2\n",
    "n_observations = 1\n",
    "\n",
    "policy_net = PolicyNetwork(n_observations=n_observations, n_actions=n_actions).to(device)\n",
    "optimizer = optim.Adam(policy_net.parameters())\n",
    "steps_done = 0\n",
    "\n",
    "def select_action(state):\n",
    "    global steps_done\n",
    "    steps_done += 1\n",
    "    with torch.no_grad():\n",
    "        action_probs = policy_net(state)\n",
    "        action_dist = torch.distributions.Categorical(action_probs)\n",
    "        action = action_dist.sample()\n",
    "        log_prob = action_dist.log_prob(action)\n",
    "        return action, log_prob"
   ]
  },
  {
   "cell_type": "code",
   "execution_count": 24,
   "metadata": {},
   "outputs": [
    {
     "name": "stdout",
     "output_type": "stream",
     "text": [
      "Episode: 999\tLoss: 3909.183349609375\tCurrent Discounted Return: -11910.199999999997"
     ]
    }
   ],
   "source": [
    "max_steps_per_episode = 500\n",
    "n_episodes = 3000\n",
    "GAMMA = 1\n",
    "R = 35 # Cost of replacement of a machine\n",
    "\n",
    "wandb.config.update({\n",
    "    'max_timesteps_per_episode': max_steps_per_episode,\n",
    "    'num_of_episodes': n_episodes,\n",
    "    'R': R,\n",
    "    'optimizer': 'Adam',\n",
    "    'learning_rate': 'default',\n",
    "    'n_actions': n_actions,\n",
    "    'n_observations': n_observations,\n",
    "})\n",
    "\n",
    "env = Env(R=R)\n",
    "\n",
    "# REINFORCE\n",
    "all_rewards = []\n",
    "for i in range(n_episodes):\n",
    "    episode_rewards = []\n",
    "    episode_log_probs = []\n",
    "    state = env.reset()\n",
    "    for j in range(max_steps_per_episode):\n",
    "        state = torch.tensor([state], dtype=torch.float32, device=device).unsqueeze(0)\n",
    "        # action, log_prob = select_action(state)\n",
    "        action_probs = policy_net(state)\n",
    "        action_dist = torch.distributions.Categorical(action_probs)\n",
    "        action = action_dist.sample()\n",
    "        log_prob = action_dist.log_prob(action)\n",
    "        next_state, reward = env.step(action)\n",
    "        episode_rewards.append(reward)\n",
    "        episode_log_probs.append(log_prob)\n",
    "        state = next_state\n",
    "    all_rewards.append(sum(episode_rewards))\n",
    "    discounted_rewards = []\n",
    "    total_cur_return = 0\n",
    "    for t in range(len(episode_rewards)):\n",
    "        Gt = sum([GAMMA**(k-t-1)*episode_rewards[k] for k in range(t, len(episode_rewards))])\n",
    "        discounted_rewards.append(Gt)\n",
    "        if t==0:\n",
    "            total_cur_return = copy.deepcopy(Gt)\n",
    "    discounted_rewards = torch.tensor(discounted_rewards)\n",
    "    log_probs = torch.stack(episode_log_probs)\n",
    "    loss = (log_probs*discounted_rewards).mean()\n",
    "\n",
    "    # print(f'Log of probs: {log_probs[0:10]}')\n",
    "    # print(f'Discounted returns: {discounted_rewards[0:10]}')\n",
    "\n",
    "    wandb.log({'loss': loss, 'Current_return': total_cur_return, 'n_episode': i}) #, 'batch': t})\n",
    "    optimizer.zero_grad()\n",
    "    loss.backward()\n",
    "    optimizer.step()\n",
    "\n",
    "    print(f\"\\rEpisode: {i}\\tLoss: {loss}\\tCurrent Discounted Return: {total_cur_return}\", end=\"\")\n",
    "\n",
    "    if i %10 == 0:\n",
    "        SAVE_PATH = './checkpoints/REINFORCE2/REINFORCE_{}.pt'.format(i)\n",
    "        torch.save(policy_net.state_dict(), SAVE_PATH)\n",
    "    "
   ]
  },
  {
   "cell_type": "code",
   "execution_count": 26,
   "metadata": {},
   "outputs": [
    {
     "name": "stderr",
     "output_type": "stream",
     "text": [
      "                                                         "
     ]
    },
    {
     "name": "stdout",
     "output_type": "stream",
     "text": [
      "0 0 0 0 0 0 0 0 0 0 0 0 0 0 0 0 0 0 0 0 0 0 0 0 0 \n",
      "0 0 0 0 0 0 0 0 0 0 0 0 0 0 0 0 0 0 0 0 0 0 0 0 0 \n",
      "0 0 0 0 0 0 0 0 0 0 0 0 0 0 0 0 0 0 0 0 0 0 0 0 0 \n",
      "0 0 0 0 0 0 0 0 0 0 0 0 0 0 0 0 0 0 0 0 0 0 0 0 0 \n"
     ]
    },
    {
     "name": "stderr",
     "output_type": "stream",
     "text": [
      "\r"
     ]
    },
    {
     "name": "stderr",
     "output_type": "stream",
     "text": [
      "wandb: Network error (ReadTimeout), entering retry loop.\n"
     ]
    }
   ],
   "source": [
    "from test_policy import evaluate_policy, print_policy\n",
    "from tqdm import tqdm\n",
    "from copy import deepcopy\n",
    "import torch\n",
    "\n",
    "NUM_STEPS = 1000\n",
    "\n",
    "best_reward = -torch.inf\n",
    "best_policy = PolicyNetwork(n_observations=1, n_actions=2)\n",
    "\n",
    "# device = torch.device(\"cuda\" if torch.cuda.is_available() else \"cpu\")\n",
    "\n",
    "env = Env(35)\n",
    "for i in tqdm(range(100, NUM_STEPS, 100), desc=\"Evaluating\", leave=False):\n",
    "    LOAD_PATH = f'./checkpoints/REINFORCE2/REINFORCE_{i}.pt'\n",
    "    policy_net = PolicyNetwork(1, 2) #.to(device)\n",
    "    checkpoint = torch.load(LOAD_PATH, map_location='cpu')\n",
    "    policy_net.load_state_dict(checkpoint)\n",
    "    reward = evaluate_policy(env=env,  policy=policy_net)\n",
    "    # writer.add_scalar(\"Reward (over policy)\", reward, i)\n",
    "    if reward > best_reward:\n",
    "        best_reward = reward\n",
    "        best_policy = deepcopy(policy_net)\n",
    "\n",
    "print_policy(best_policy)"
   ]
  },
  {
   "cell_type": "code",
   "execution_count": null,
   "metadata": {},
   "outputs": [],
   "source": []
  }
 ],
 "metadata": {
  "kernelspec": {
   "display_name": "toy_diffusion",
   "language": "python",
   "name": "python3"
  },
  "language_info": {
   "codemirror_mode": {
    "name": "ipython",
    "version": 3
   },
   "file_extension": ".py",
   "mimetype": "text/x-python",
   "name": "python",
   "nbconvert_exporter": "python",
   "pygments_lexer": "ipython3",
   "version": "3.8.16"
  },
  "orig_nbformat": 4
 },
 "nbformat": 4,
 "nbformat_minor": 2
}
