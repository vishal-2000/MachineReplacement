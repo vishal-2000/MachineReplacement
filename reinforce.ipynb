{
 "cells": [
  {
   "cell_type": "code",
   "execution_count": 10,
   "metadata": {},
   "outputs": [
    {
     "data": {
      "text/html": [
       "Finishing last run (ID:Reinforce2) before initializing another..."
      ],
      "text/plain": [
       "<IPython.core.display.HTML object>"
      ]
     },
     "metadata": {},
     "output_type": "display_data"
    },
    {
     "data": {
      "text/html": [
       "Waiting for W&B process to finish... <strong style=\"color:green\">(success).</strong>"
      ],
      "text/plain": [
       "<IPython.core.display.HTML object>"
      ]
     },
     "metadata": {},
     "output_type": "display_data"
    },
    {
     "data": {
      "text/html": [
       "<style>\n",
       "    table.wandb td:nth-child(1) { padding: 0 10px; text-align: left ; width: auto;} td:nth-child(2) {text-align: left ; width: 100%}\n",
       "    .wandb-row { display: flex; flex-direction: row; flex-wrap: wrap; justify-content: flex-start; width: 100% }\n",
       "    .wandb-col { display: flex; flex-direction: column; flex-basis: 100%; flex: 1; padding: 10px; }\n",
       "    </style>\n",
       "<div class=\"wandb-row\"><div class=\"wandb-col\"><h3>Run history:</h3><br/><table class=\"wandb\"><tr><td>Current_return</td><td>▆▇▃▅▂▅▅▂▁▄▃▄▂▇▃▁▅▂██▃▃▃▁▂▂▂▃▁▂▁▄▅▃▃▁▃▂▃▄</td></tr><tr><td>loss</td><td>██▄█▂▆▅▃▁▄▅▅▂█▄▁▆▃█▇▄▅▂▁▂▃▂▄▂▂▁▇▆▃▅▂▃▂▅▆</td></tr><tr><td>n_episode</td><td>▁▁▂▂▂▂▃▃▃▄▄▄▅▅▅▆▆▁▁▂▂▂▃▃▃▄▄▄▅▅▅▆▆▆▆▇▇▇██</td></tr></table><br/></div><div class=\"wandb-col\"><h3>Run summary:</h3><br/><table class=\"wandb\"><tr><td>Current_return</td><td>-340.5471</td></tr><tr><td>loss</td><td>34.45724</td></tr><tr><td>n_episode</td><td>288</td></tr></table><br/></div></div>"
      ],
      "text/plain": [
       "<IPython.core.display.HTML object>"
      ]
     },
     "metadata": {},
     "output_type": "display_data"
    },
    {
     "data": {
      "text/html": [
       " View run <strong style=\"color:#cdcd00\">Reinforce2</strong> at: <a href='https://wandb.ai/vishalrm/REINFORCE_MachineReplacement/runs/Reinforce2' target=\"_blank\">https://wandb.ai/vishalrm/REINFORCE_MachineReplacement/runs/Reinforce2</a><br/>Synced 6 W&B file(s), 0 media file(s), 0 artifact file(s) and 0 other file(s)"
      ],
      "text/plain": [
       "<IPython.core.display.HTML object>"
      ]
     },
     "metadata": {},
     "output_type": "display_data"
    },
    {
     "data": {
      "text/html": [
       "Find logs at: <code>./wandb/run-20230510_171422-Reinforce2/logs</code>"
      ],
      "text/plain": [
       "<IPython.core.display.HTML object>"
      ]
     },
     "metadata": {},
     "output_type": "display_data"
    },
    {
     "data": {
      "text/html": [
       "Successfully finished last run (ID:Reinforce2). Initializing new run:<br/>"
      ],
      "text/plain": [
       "<IPython.core.display.HTML object>"
      ]
     },
     "metadata": {},
     "output_type": "display_data"
    },
    {
     "data": {
      "application/vnd.jupyter.widget-view+json": {
       "model_id": "2a84dd4edbfc46db9e459416ba9631dd",
       "version_major": 2,
       "version_minor": 0
      },
      "text/plain": [
       "VBox(children=(Label(value='Waiting for wandb.init()...\\r'), FloatProgress(value=0.016753556950000834, max=1.0…"
      ]
     },
     "metadata": {},
     "output_type": "display_data"
    },
    {
     "data": {
      "text/html": [
       "Tracking run with wandb version 0.15.2"
      ],
      "text/plain": [
       "<IPython.core.display.HTML object>"
      ]
     },
     "metadata": {},
     "output_type": "display_data"
    },
    {
     "data": {
      "text/html": [
       "Run data is saved locally in <code>/Users/vishal/Desktop/acads/Intro to RL/codes/MachineReplacement/wandb/run-20230510_171502-Reinforce2</code>"
      ],
      "text/plain": [
       "<IPython.core.display.HTML object>"
      ]
     },
     "metadata": {},
     "output_type": "display_data"
    },
    {
     "data": {
      "text/html": [
       "Syncing run <strong><a href='https://wandb.ai/vishalrm/REINFORCE_MachineReplacement/runs/Reinforce2' target=\"_blank\">Reinforce2</a></strong> to <a href='https://wandb.ai/vishalrm/REINFORCE_MachineReplacement' target=\"_blank\">Weights & Biases</a> (<a href='https://wandb.me/run' target=\"_blank\">docs</a>)<br/>"
      ],
      "text/plain": [
       "<IPython.core.display.HTML object>"
      ]
     },
     "metadata": {},
     "output_type": "display_data"
    },
    {
     "data": {
      "text/html": [
       " View project at <a href='https://wandb.ai/vishalrm/REINFORCE_MachineReplacement' target=\"_blank\">https://wandb.ai/vishalrm/REINFORCE_MachineReplacement</a>"
      ],
      "text/plain": [
       "<IPython.core.display.HTML object>"
      ]
     },
     "metadata": {},
     "output_type": "display_data"
    },
    {
     "data": {
      "text/html": [
       " View run at <a href='https://wandb.ai/vishalrm/REINFORCE_MachineReplacement/runs/Reinforce2' target=\"_blank\">https://wandb.ai/vishalrm/REINFORCE_MachineReplacement/runs/Reinforce2</a>"
      ],
      "text/plain": [
       "<IPython.core.display.HTML object>"
      ]
     },
     "metadata": {},
     "output_type": "display_data"
    }
   ],
   "source": [
    "import torch\n",
    "import torch.nn as nn\n",
    "import torch.optim as optim\n",
    "import torch.nn.functional as F\n",
    "import random\n",
    "from env import Env\n",
    "import numpy as np\n",
    "import wandb\n",
    "import copy\n",
    "\n",
    "# wandb setup\n",
    "number = 2\n",
    "NAME = \"Reinforce\" + str(number)\n",
    "ID = \"Reinforce\" + str(number)\n",
    "run = wandb.init(project='REINFORCE_MachineReplacement', name = NAME, id = ID)\n",
    "\n",
    "device = torch.device(\"cuda\" if torch.cuda.is_available() else \"cpu\")"
   ]
  },
  {
   "cell_type": "code",
   "execution_count": 11,
   "metadata": {},
   "outputs": [],
   "source": [
    "# Define the policy network\n",
    "class PolicyNetwork(nn.Module):\n",
    "    def __init__(self, n_observations, n_actions):\n",
    "        super(PolicyNetwork, self).__init__()\n",
    "        self.layer1 = nn.Linear(n_observations, 16)\n",
    "        self.layer2 = nn.Linear(16, 16)\n",
    "        self.layer3 = nn.Linear(16, n_actions)\n",
    "\n",
    "    def forward(self, state):\n",
    "        x = F.relu(self.layer1(state))\n",
    "        x = F.relu(self.layer2(x))\n",
    "        output = F.softmax(self.layer3(x), dim=1)\n",
    "        return output"
   ]
  },
  {
   "cell_type": "code",
   "execution_count": 12,
   "metadata": {},
   "outputs": [],
   "source": [
    "n_actions = 2\n",
    "n_observations = 1\n",
    "\n",
    "policy_net = PolicyNetwork(n_observations=n_observations, n_actions=n_actions).to(device)\n",
    "optimizer = optim.Adam(policy_net.parameters())\n",
    "steps_done = 0\n",
    "\n",
    "def select_action(state):\n",
    "    global steps_done\n",
    "    steps_done += 1\n",
    "    with torch.no_grad():\n",
    "        action_probs = policy_net(state)\n",
    "        action_dist = torch.distributions.Categorical(action_probs)\n",
    "        action = action_dist.sample()\n",
    "        log_prob = action_dist.log_prob(action)\n",
    "        return action, log_prob"
   ]
  },
  {
   "cell_type": "code",
   "execution_count": 13,
   "metadata": {},
   "outputs": [
    {
     "name": "stdout",
     "output_type": "stream",
     "text": [
      "Episode: 19999\tLoss: 6.309703350067139\tCurrent Discounted Return: -219.4410738124796646"
     ]
    }
   ],
   "source": [
    "max_steps_per_episode = 50\n",
    "n_episodes = 20000\n",
    "GAMMA = 0.99\n",
    "R = 3.5 # Cost of replacement of a machine\n",
    "\n",
    "wandb.config.update({\n",
    "    'max_timesteps_per_episode': max_steps_per_episode,\n",
    "    'num_of_episodes': n_episodes,\n",
    "    'R': R,\n",
    "    'optimizer': 'Adam',\n",
    "    'learning_rate': 'default',\n",
    "    'n_actions': n_actions,\n",
    "    'n_observations': n_observations,\n",
    "})\n",
    "\n",
    "env = Env(R=R)\n",
    "\n",
    "# REINFORCE\n",
    "all_rewards = []\n",
    "for i in range(n_episodes):\n",
    "    episode_rewards = []\n",
    "    episode_log_probs = []\n",
    "    state = env.reset()\n",
    "    for j in range(max_steps_per_episode):\n",
    "        state = torch.tensor([state], dtype=torch.float32, device=device).unsqueeze(0)\n",
    "        # action, log_prob = select_action(state)\n",
    "        action_probs = policy_net(state)\n",
    "        action_dist = torch.distributions.Categorical(action_probs)\n",
    "        action = action_dist.sample()\n",
    "        log_prob = action_dist.log_prob(action)\n",
    "        next_state, reward = env.step(action)\n",
    "        episode_rewards.append(reward)\n",
    "        episode_log_probs.append(log_prob)\n",
    "        state = next_state\n",
    "    all_rewards.append(sum(episode_rewards))\n",
    "    discounted_rewards = []\n",
    "    total_cur_return = 0\n",
    "    for t in range(len(episode_rewards)):\n",
    "        Gt = sum([GAMMA**(k-t-1)*episode_rewards[k] for k in range(t, len(episode_rewards))])\n",
    "        discounted_rewards.append(Gt)\n",
    "        if t==0:\n",
    "            total_cur_return = copy.deepcopy(Gt)\n",
    "    discounted_rewards = torch.tensor(discounted_rewards)\n",
    "    log_probs = torch.stack(episode_log_probs)\n",
    "    loss = (log_probs*discounted_rewards).mean()\n",
    "\n",
    "    # print(f'Log of probs: {log_probs[0:10]}')\n",
    "    # print(f'Discounted returns: {discounted_rewards[0:10]}')\n",
    "\n",
    "    wandb.log({'loss': loss, 'Current_return': total_cur_return, 'n_episode': i}) #, 'batch': t})\n",
    "    optimizer.zero_grad()\n",
    "    loss.backward()\n",
    "    optimizer.step()\n",
    "\n",
    "    print(f\"\\rEpisode: {i}\\tLoss: {loss}\\tCurrent Discounted Return: {total_cur_return}\", end=\"\")\n",
    "\n",
    "    if i%100 == 0:\n",
    "        SAVE_PATH = './checkpoints/REINFORCE/REINFORCE_{}.pt'.format(i)\n",
    "        torch.save(policy_net.state_dict(), SAVE_PATH)\n",
    "    "
   ]
  }
 ],
 "metadata": {
  "kernelspec": {
   "display_name": "toy_diffusion",
   "language": "python",
   "name": "python3"
  },
  "language_info": {
   "codemirror_mode": {
    "name": "ipython",
    "version": 3
   },
   "file_extension": ".py",
   "mimetype": "text/x-python",
   "name": "python",
   "nbconvert_exporter": "python",
   "pygments_lexer": "ipython3",
   "version": "3.8.16"
  },
  "orig_nbformat": 4
 },
 "nbformat": 4,
 "nbformat_minor": 2
}
