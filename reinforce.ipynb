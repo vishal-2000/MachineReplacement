{
 "cells": [
  {
   "cell_type": "code",
   "execution_count": 30,
   "metadata": {},
   "outputs": [
    {
     "data": {
      "text/html": [
       "Finishing last run (ID:Reinforce21) before initializing another..."
      ],
      "text/plain": [
       "<IPython.core.display.HTML object>"
      ]
     },
     "metadata": {},
     "output_type": "display_data"
    },
    {
     "data": {
      "text/html": [
       "Waiting for W&B process to finish... <strong style=\"color:green\">(success).</strong>"
      ],
      "text/plain": [
       "<IPython.core.display.HTML object>"
      ]
     },
     "metadata": {},
     "output_type": "display_data"
    },
    {
     "data": {
      "application/vnd.jupyter.widget-view+json": {
       "model_id": "b832f02cfdcc48d49286867b85751b36",
       "version_major": 2,
       "version_minor": 0
      },
      "text/plain": [
       "VBox(children=(Label(value='0.003 MB of 0.003 MB uploaded (0.000 MB deduped)\\r'), FloatProgress(value=1.0, max…"
      ]
     },
     "metadata": {},
     "output_type": "display_data"
    },
    {
     "data": {
      "text/html": [
       "<style>\n",
       "    table.wandb td:nth-child(1) { padding: 0 10px; text-align: left ; width: auto;} td:nth-child(2) {text-align: left ; width: 100%}\n",
       "    .wandb-row { display: flex; flex-direction: row; flex-wrap: wrap; justify-content: flex-start; width: 100% }\n",
       "    .wandb-col { display: flex; flex-direction: column; flex-basis: 100%; flex: 1; padding: 10px; }\n",
       "    </style>\n",
       "<div class=\"wandb-row\"><div class=\"wandb-col\"><h3>Run history:</h3><br/><table class=\"wandb\"><tr><td>Current_return</td><td>▃▃▄▇▄▄▃▅███▄▇▄▄▇▄█▆▇█▇▅▃▃▃▂▂▁▂▃▂▂▂▂▂▂▂▁▂</td></tr><tr><td>loss</td><td>▇▇▆▁▅▅▇▅▁▁▁▆▂▅▆▁▆▁▃▂▁▂▄▇▆▇▇▇█▇▇▇▇▇▇█▇██▇</td></tr><tr><td>n_episode</td><td>▁▁▁▁▂▂▂▂▂▃▃▃▃▃▃▄▄▄▄▄▅▅▅▅▅▅▆▆▆▆▆▇▇▇▇▇▇███</td></tr></table><br/></div><div class=\"wandb-col\"><h3>Run summary:</h3><br/><table class=\"wandb\"><tr><td>Current_return</td><td>-9266.39744</td></tr><tr><td>loss</td><td>3054.71851</td></tr><tr><td>n_episode</td><td>200</td></tr></table><br/></div></div>"
      ],
      "text/plain": [
       "<IPython.core.display.HTML object>"
      ]
     },
     "metadata": {},
     "output_type": "display_data"
    },
    {
     "data": {
      "text/html": [
       " View run <strong style=\"color:#cdcd00\">Reinforce21</strong> at: <a href='https://wandb.ai/tejasstar1111/REINFORCE2_MachineReplacement/runs/Reinforce21' target=\"_blank\">https://wandb.ai/tejasstar1111/REINFORCE2_MachineReplacement/runs/Reinforce21</a><br/>Synced 6 W&B file(s), 0 media file(s), 0 artifact file(s) and 0 other file(s)"
      ],
      "text/plain": [
       "<IPython.core.display.HTML object>"
      ]
     },
     "metadata": {},
     "output_type": "display_data"
    },
    {
     "data": {
      "text/html": [
       "Find logs at: <code>./wandb/run-20230510_234230-Reinforce21/logs</code>"
      ],
      "text/plain": [
       "<IPython.core.display.HTML object>"
      ]
     },
     "metadata": {},
     "output_type": "display_data"
    },
    {
     "data": {
      "text/html": [
       "Successfully finished last run (ID:Reinforce21). Initializing new run:<br/>"
      ],
      "text/plain": [
       "<IPython.core.display.HTML object>"
      ]
     },
     "metadata": {},
     "output_type": "display_data"
    },
    {
     "data": {
      "application/vnd.jupyter.widget-view+json": {
       "model_id": "2b9f5f0314ee4b8da341b233be5ff5e3",
       "version_major": 2,
       "version_minor": 0
      },
      "text/plain": [
       "VBox(children=(Label(value='Waiting for wandb.init()...\\r'), FloatProgress(value=0.016670271116648414, max=1.0…"
      ]
     },
     "metadata": {},
     "output_type": "display_data"
    },
    {
     "data": {
      "text/html": [
       "Tracking run with wandb version 0.15.2"
      ],
      "text/plain": [
       "<IPython.core.display.HTML object>"
      ]
     },
     "metadata": {},
     "output_type": "display_data"
    },
    {
     "data": {
      "text/html": [
       "Run data is saved locally in <code>/home/persona/IIIT-H/Sem-8/Topics-in-RL/Project/MachineReplacement/wandb/run-20230510_234544-Reinforce21</code>"
      ],
      "text/plain": [
       "<IPython.core.display.HTML object>"
      ]
     },
     "metadata": {},
     "output_type": "display_data"
    },
    {
     "data": {
      "text/html": [
       "Syncing run <strong><a href='https://wandb.ai/tejasstar1111/REINFORCE2_MachineReplacement/runs/Reinforce21' target=\"_blank\">Reinforce21</a></strong> to <a href='https://wandb.ai/tejasstar1111/REINFORCE2_MachineReplacement' target=\"_blank\">Weights & Biases</a> (<a href='https://wandb.me/run' target=\"_blank\">docs</a>)<br/>"
      ],
      "text/plain": [
       "<IPython.core.display.HTML object>"
      ]
     },
     "metadata": {},
     "output_type": "display_data"
    },
    {
     "data": {
      "text/html": [
       " View project at <a href='https://wandb.ai/tejasstar1111/REINFORCE2_MachineReplacement' target=\"_blank\">https://wandb.ai/tejasstar1111/REINFORCE2_MachineReplacement</a>"
      ],
      "text/plain": [
       "<IPython.core.display.HTML object>"
      ]
     },
     "metadata": {},
     "output_type": "display_data"
    },
    {
     "data": {
      "text/html": [
       " View run at <a href='https://wandb.ai/tejasstar1111/REINFORCE2_MachineReplacement/runs/Reinforce21' target=\"_blank\">https://wandb.ai/tejasstar1111/REINFORCE2_MachineReplacement/runs/Reinforce21</a>"
      ],
      "text/plain": [
       "<IPython.core.display.HTML object>"
      ]
     },
     "metadata": {},
     "output_type": "display_data"
    }
   ],
   "source": [
    "import torch\n",
    "import torch.nn as nn\n",
    "import torch.optim as optim\n",
    "import torch.nn.functional as F\n",
    "import random\n",
    "from env import Env\n",
    "import numpy as np\n",
    "import wandb\n",
    "import copy\n",
    "\n",
    "# wandb setup\n",
    "number = 1\n",
    "NAME = \"Reinforce2\" + str(number)\n",
    "ID = \"Reinforce2\" + str(number)\n",
    "run = wandb.init(project='REINFORCE2_MachineReplacement', name = NAME, id = ID)\n",
    "\n",
    "random.seed(42)\n",
    "np.random.seed(42)\n",
    "torch.manual_seed(42)\n",
    "device = torch.device(\"cuda\" if torch.cuda.is_available() else \"cpu\")"
   ]
  },
  {
   "cell_type": "code",
   "execution_count": 31,
   "metadata": {},
   "outputs": [],
   "source": [
    "# Define the policy network\n",
    "class PolicyNetwork(nn.Module):\n",
    "    def __init__(self, n_observations, n_actions):\n",
    "        super(PolicyNetwork, self).__init__()\n",
    "        self.layer1 = nn.Linear(n_observations, 16)\n",
    "        self.layer2 = nn.Linear(16, 16)\n",
    "        self.layer3 = nn.Linear(16, n_actions)\n",
    "\n",
    "    def forward(self, state):\n",
    "        x = F.relu(self.layer1(state))\n",
    "        x = F.relu(self.layer2(x))\n",
    "        output = F.softmax(self.layer3(x), dim=1)\n",
    "        return output"
   ]
  },
  {
   "cell_type": "code",
   "execution_count": 32,
   "metadata": {},
   "outputs": [],
   "source": [
    "n_actions = 2\n",
    "n_observations = 1\n",
    "\n",
    "policy_net = PolicyNetwork(n_observations=n_observations, n_actions=n_actions).to(device)\n",
    "optimizer = optim.Adam(policy_net.parameters())\n",
    "steps_done = 0\n",
    "\n",
    "def select_action(state):\n",
    "    global steps_done\n",
    "    steps_done += 1\n",
    "    with torch.no_grad():\n",
    "        action_probs = policy_net(state)\n",
    "        action_dist = torch.distributions.Categorical(action_probs)\n",
    "        action = action_dist.sample()\n",
    "        log_prob = action_dist.log_prob(action)\n",
    "        return action, log_prob"
   ]
  },
  {
   "cell_type": "code",
   "execution_count": 33,
   "metadata": {},
   "outputs": [
    {
     "name": "stdout",
     "output_type": "stream",
     "text": [
      "Episode: 18\tLoss: 4302.974609375\tCurrent Discounted Return: -14265.20000000000474"
     ]
    },
    {
     "ename": "KeyboardInterrupt",
     "evalue": "",
     "output_type": "error",
     "traceback": [
      "\u001b[0;31m---------------------------------------------------------------------------\u001b[0m",
      "\u001b[0;31mKeyboardInterrupt\u001b[0m                         Traceback (most recent call last)",
      "Cell \u001b[0;32mIn[33], line 29\u001b[0m\n\u001b[1;32m     27\u001b[0m action_probs \u001b[39m=\u001b[39m policy_net(state)\n\u001b[1;32m     28\u001b[0m action_dist \u001b[39m=\u001b[39m torch\u001b[39m.\u001b[39mdistributions\u001b[39m.\u001b[39mCategorical(action_probs)\n\u001b[0;32m---> 29\u001b[0m action \u001b[39m=\u001b[39m action_dist\u001b[39m.\u001b[39;49msample()\n\u001b[1;32m     30\u001b[0m log_prob \u001b[39m=\u001b[39m action_dist\u001b[39m.\u001b[39mlog_prob(action)\n\u001b[1;32m     31\u001b[0m next_state, reward \u001b[39m=\u001b[39m env\u001b[39m.\u001b[39mstep(action)\n",
      "File \u001b[0;32m~/miniconda3/envs/TiRL/lib/python3.10/site-packages/torch/distributions/categorical.py:118\u001b[0m, in \u001b[0;36mCategorical.sample\u001b[0;34m(self, sample_shape)\u001b[0m\n\u001b[1;32m    116\u001b[0m     sample_shape \u001b[39m=\u001b[39m torch\u001b[39m.\u001b[39mSize(sample_shape)\n\u001b[1;32m    117\u001b[0m probs_2d \u001b[39m=\u001b[39m \u001b[39mself\u001b[39m\u001b[39m.\u001b[39mprobs\u001b[39m.\u001b[39mreshape(\u001b[39m-\u001b[39m\u001b[39m1\u001b[39m, \u001b[39mself\u001b[39m\u001b[39m.\u001b[39m_num_events)\n\u001b[0;32m--> 118\u001b[0m samples_2d \u001b[39m=\u001b[39m torch\u001b[39m.\u001b[39;49mmultinomial(probs_2d, sample_shape\u001b[39m.\u001b[39;49mnumel(), \u001b[39mTrue\u001b[39;49;00m)\u001b[39m.\u001b[39mT\n\u001b[1;32m    119\u001b[0m \u001b[39mreturn\u001b[39;00m samples_2d\u001b[39m.\u001b[39mreshape(\u001b[39mself\u001b[39m\u001b[39m.\u001b[39m_extended_shape(sample_shape))\n",
      "\u001b[0;31mKeyboardInterrupt\u001b[0m: "
     ]
    }
   ],
   "source": [
    "max_steps_per_episode = 500\n",
    "n_episodes = 201\n",
    "GAMMA = 1\n",
    "R = 38 # Cost of replacement of a machine\n",
    "\n",
    "wandb.config.update({\n",
    "    'max_timesteps_per_episode': max_steps_per_episode,\n",
    "    'num_of_episodes': n_episodes,\n",
    "    'R': R,\n",
    "    'optimizer': 'Adam',\n",
    "    'learning_rate': 'default',\n",
    "    'n_actions': n_actions,\n",
    "    'n_observations': n_observations,\n",
    "})\n",
    "\n",
    "env = Env(R=R)\n",
    "\n",
    "# REINFORCE\n",
    "all_rewards = []\n",
    "for i in range(n_episodes):\n",
    "    episode_rewards = []\n",
    "    episode_log_probs = []\n",
    "    state = env.reset()\n",
    "    for j in range(max_steps_per_episode):\n",
    "        state = torch.tensor([state], dtype=torch.float32, device=device).unsqueeze(0)\n",
    "        # action, log_prob = select_action(state)\n",
    "        action_probs = policy_net(state)\n",
    "        action_dist = torch.distributions.Categorical(action_probs)\n",
    "        action = action_dist.sample()\n",
    "        log_prob = action_dist.log_prob(action)\n",
    "        next_state, reward = env.step(action)\n",
    "        episode_rewards.append(reward)\n",
    "        episode_log_probs.append(log_prob)\n",
    "        state = next_state\n",
    "    all_rewards.append(sum(episode_rewards))\n",
    "    discounted_rewards = []\n",
    "    total_cur_return = 0\n",
    "    for t in range(len(episode_rewards)):\n",
    "        Gt = sum([GAMMA**(k-t-1)*episode_rewards[k] for k in range(t, len(episode_rewards))])\n",
    "        discounted_rewards.append(Gt)\n",
    "        if t==0:\n",
    "            total_cur_return = copy.deepcopy(Gt)\n",
    "    discounted_rewards = torch.tensor(discounted_rewards).to(device)\n",
    "    log_probs = torch.stack(episode_log_probs).to(device)\n",
    "    loss = (log_probs*discounted_rewards).mean()\n",
    "\n",
    "    # print(f'Log of probs: {log_probs[0:10]}')\n",
    "    # print(f'Discounted returns: {discounted_rewards[0:10]}')\n",
    "\n",
    "    wandb.log({'loss': loss, 'Current_return': total_cur_return, 'n_episode': i}) #, 'batch': t})\n",
    "    optimizer.zero_grad()\n",
    "    loss.backward()\n",
    "    optimizer.step()\n",
    "\n",
    "    print(f\"\\rEpisode: {i}\\tLoss: {loss}\\tCurrent Discounted Return: {total_cur_return}\", end=\"\")\n",
    "\n",
    "    if i %10 == 0:\n",
    "        SAVE_PATH = './checkpoints/REINFORCE/REINFORCE_{}.pt'.format(i)\n",
    "        torch.save(policy_net.state_dict(), SAVE_PATH)\n",
    "    "
   ]
  },
  {
   "cell_type": "code",
   "execution_count": null,
   "metadata": {},
   "outputs": [
    {
     "name": "stderr",
     "output_type": "stream",
     "text": [
      "                                                           "
     ]
    },
    {
     "name": "stdout",
     "output_type": "stream",
     "text": [
      "1 1 1 1 1 1 1 1 1 1 1 1 1 1 1 1 1 1 1 1 1 1 1 1 1 \n",
      "1 1 1 1 1 1 1 1 1 1 1 1 1 1 1 1 1 1 1 1 1 1 1 1 1 \n",
      "1 1 1 1 1 1 1 1 1 1 1 1 1 1 1 1 1 1 1 1 1 1 1 1 1 \n",
      "1 1 1 1 1 1 1 1 1 1 1 1 1 1 1 1 1 1 1 1 1 1 1 1 1 \n"
     ]
    },
    {
     "name": "stderr",
     "output_type": "stream",
     "text": [
      "\r"
     ]
    }
   ],
   "source": [
    "from test_policy import evaluate_policy, print_policy\n",
    "from tqdm import tqdm\n",
    "from copy import deepcopy\n",
    "import torch\n",
    "\n",
    "NUM_STEPS = 201\n",
    "\n",
    "best_reward = -torch.inf\n",
    "best_policy = PolicyNetwork(n_observations=1, n_actions=2)\n",
    "\n",
    "# device = torch.device(\"cuda\" if torch.cuda.is_available() else \"cpu\")\n",
    "\n",
    "for i in tqdm(range(0, NUM_STEPS, 10), desc=\"Evaluating\", leave=False):\n",
    "    LOAD_PATH = f'./checkpoints/REINFORCE/REINFORCE_{i}.pt'\n",
    "    policy_net = PolicyNetwork(1, 2).to(device)\n",
    "    checkpoint = torch.load(LOAD_PATH, map_location='cpu')\n",
    "    policy_net.load_state_dict(checkpoint)\n",
    "    reward = evaluate_policy(env=env,  policy=policy_net)\n",
    "    # writer.add_scalar(\"Reward (over policy)\", reward, i)\n",
    "    if reward > best_reward:\n",
    "        best_reward = reward\n",
    "        best_policy = deepcopy(policy_net)\n",
    "\n",
    "print_policy(best_policy)"
   ]
  },
  {
   "cell_type": "code",
   "execution_count": null,
   "metadata": {},
   "outputs": [],
   "source": []
  }
 ],
 "metadata": {
  "kernelspec": {
   "display_name": "toy_diffusion",
   "language": "python",
   "name": "python3"
  },
  "language_info": {
   "codemirror_mode": {
    "name": "ipython",
    "version": 3
   },
   "file_extension": ".py",
   "mimetype": "text/x-python",
   "name": "python",
   "nbconvert_exporter": "python",
   "pygments_lexer": "ipython3",
   "version": "3.10.10"
  },
  "orig_nbformat": 4
 },
 "nbformat": 4,
 "nbformat_minor": 2
}
