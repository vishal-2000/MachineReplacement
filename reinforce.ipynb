{
 "cells": [
  {
   "cell_type": "code",
   "execution_count": 12,
   "metadata": {},
   "outputs": [
    {
     "data": {
      "text/html": [
       "Finishing last run (ID:Reinforce4) before initializing another..."
      ],
      "text/plain": [
       "<IPython.core.display.HTML object>"
      ]
     },
     "metadata": {},
     "output_type": "display_data"
    },
    {
     "data": {
      "text/html": [
       "Waiting for W&B process to finish... <strong style=\"color:green\">(success).</strong>"
      ],
      "text/plain": [
       "<IPython.core.display.HTML object>"
      ]
     },
     "metadata": {},
     "output_type": "display_data"
    },
    {
     "data": {
      "application/vnd.jupyter.widget-view+json": {
       "model_id": "20003c54a38941e4938cac5d41e05727",
       "version_major": 2,
       "version_minor": 0
      },
      "text/plain": [
       "VBox(children=(Label(value='0.001 MB of 0.001 MB uploaded (0.000 MB deduped)\\r'), FloatProgress(value=1.0, max…"
      ]
     },
     "metadata": {},
     "output_type": "display_data"
    },
    {
     "data": {
      "text/html": [
       " View run <strong style=\"color:#cdcd00\">Reinforce4</strong> at: <a href='https://wandb.ai/vishalrm/REINFORCE_MachineReplacement/runs/Reinforce4' target=\"_blank\">https://wandb.ai/vishalrm/REINFORCE_MachineReplacement/runs/Reinforce4</a><br/>Synced 6 W&B file(s), 0 media file(s), 0 artifact file(s) and 0 other file(s)"
      ],
      "text/plain": [
       "<IPython.core.display.HTML object>"
      ]
     },
     "metadata": {},
     "output_type": "display_data"
    },
    {
     "data": {
      "text/html": [
       "Find logs at: <code>./wandb/run-20230510_194957-Reinforce4/logs</code>"
      ],
      "text/plain": [
       "<IPython.core.display.HTML object>"
      ]
     },
     "metadata": {},
     "output_type": "display_data"
    },
    {
     "data": {
      "text/html": [
       "Successfully finished last run (ID:Reinforce4). Initializing new run:<br/>"
      ],
      "text/plain": [
       "<IPython.core.display.HTML object>"
      ]
     },
     "metadata": {},
     "output_type": "display_data"
    },
    {
     "data": {
      "application/vnd.jupyter.widget-view+json": {
       "model_id": "d72768685e6a44f78d354386083fc097",
       "version_major": 2,
       "version_minor": 0
      },
      "text/plain": [
       "VBox(children=(Label(value='Waiting for wandb.init()...\\r'), FloatProgress(value=0.01671019929999602, max=1.0)…"
      ]
     },
     "metadata": {},
     "output_type": "display_data"
    },
    {
     "data": {
      "text/html": [
       "Tracking run with wandb version 0.15.2"
      ],
      "text/plain": [
       "<IPython.core.display.HTML object>"
      ]
     },
     "metadata": {},
     "output_type": "display_data"
    },
    {
     "data": {
      "text/html": [
       "Run data is saved locally in <code>/Users/vishal/Desktop/acads/Intro to RL/codes/MachineReplacement/wandb/run-20230510_210119-Reinforce4</code>"
      ],
      "text/plain": [
       "<IPython.core.display.HTML object>"
      ]
     },
     "metadata": {},
     "output_type": "display_data"
    },
    {
     "data": {
      "text/html": [
       "Syncing run <strong><a href='https://wandb.ai/vishalrm/REINFORCE_MachineReplacement/runs/Reinforce4' target=\"_blank\">Reinforce4</a></strong> to <a href='https://wandb.ai/vishalrm/REINFORCE_MachineReplacement' target=\"_blank\">Weights & Biases</a> (<a href='https://wandb.me/run' target=\"_blank\">docs</a>)<br/>"
      ],
      "text/plain": [
       "<IPython.core.display.HTML object>"
      ]
     },
     "metadata": {},
     "output_type": "display_data"
    },
    {
     "data": {
      "text/html": [
       " View project at <a href='https://wandb.ai/vishalrm/REINFORCE_MachineReplacement' target=\"_blank\">https://wandb.ai/vishalrm/REINFORCE_MachineReplacement</a>"
      ],
      "text/plain": [
       "<IPython.core.display.HTML object>"
      ]
     },
     "metadata": {},
     "output_type": "display_data"
    },
    {
     "data": {
      "text/html": [
       " View run at <a href='https://wandb.ai/vishalrm/REINFORCE_MachineReplacement/runs/Reinforce4' target=\"_blank\">https://wandb.ai/vishalrm/REINFORCE_MachineReplacement/runs/Reinforce4</a>"
      ],
      "text/plain": [
       "<IPython.core.display.HTML object>"
      ]
     },
     "metadata": {},
     "output_type": "display_data"
    }
   ],
   "source": [
    "import torch\n",
    "import torch.nn as nn\n",
    "import torch.optim as optim\n",
    "import torch.nn.functional as F\n",
    "import random\n",
    "from env import Env\n",
    "import numpy as np\n",
    "import wandb\n",
    "import copy\n",
    "\n",
    "# wandb setup\n",
    "number = 4\n",
    "NAME = \"Reinforce\" + str(number)\n",
    "ID = \"Reinforce\" + str(number)\n",
    "run = wandb.init(project='REINFORCE_MachineReplacement', name = NAME, id = ID)\n",
    "\n",
    "device = torch.device(\"cuda\" if torch.cuda.is_available() else \"cpu\")"
   ]
  },
  {
   "cell_type": "code",
   "execution_count": 13,
   "metadata": {},
   "outputs": [],
   "source": [
    "# Define the policy network\n",
    "class PolicyNetwork(nn.Module):\n",
    "    def __init__(self, n_observations, n_actions):\n",
    "        super(PolicyNetwork, self).__init__()\n",
    "        self.layer1 = nn.Linear(n_observations, 16)\n",
    "        self.layer2 = nn.Linear(16, 16)\n",
    "        self.layer3 = nn.Linear(16, n_actions)\n",
    "\n",
    "    def forward(self, state):\n",
    "        x = F.relu(self.layer1(state))\n",
    "        x = F.relu(self.layer2(x))\n",
    "        output = F.softmax(self.layer3(x), dim=1)\n",
    "        return output"
   ]
  },
  {
   "cell_type": "code",
   "execution_count": 39,
   "metadata": {},
   "outputs": [],
   "source": [
    "n_actions = 2\n",
    "n_observations = 1\n",
    "\n",
    "policy_net = PolicyNetwork(n_observations=n_observations, n_actions=n_actions).to(device)\n",
    "optimizer = optim.Adam(policy_net.parameters())\n",
    "steps_done = 0\n",
    "\n",
    "def select_action(state):\n",
    "    global steps_done\n",
    "    steps_done += 1\n",
    "    with torch.no_grad():\n",
    "        action_probs = policy_net(state)\n",
    "        action_dist = torch.distributions.Categorical(action_probs)\n",
    "        action = action_dist.sample()\n",
    "        log_prob = action_dist.log_prob(action)\n",
    "        return action, log_prob"
   ]
  },
  {
   "cell_type": "code",
   "execution_count": 40,
   "metadata": {},
   "outputs": [
    {
     "name": "stdout",
     "output_type": "stream",
     "text": [
      "Episode: 7115\tLoss: -0.719237208366394\tCurrent Discounted Return: -976.661444462624894"
     ]
    },
    {
     "ename": "KeyboardInterrupt",
     "evalue": "",
     "output_type": "error",
     "traceback": [
      "\u001b[0;31m---------------------------------------------------------------------------\u001b[0m",
      "\u001b[0;31mKeyboardInterrupt\u001b[0m                         Traceback (most recent call last)",
      "Cell \u001b[0;32mIn[40], line 52\u001b[0m\n\u001b[1;32m     50\u001b[0m wandb\u001b[39m.\u001b[39mlog({\u001b[39m'\u001b[39m\u001b[39mloss\u001b[39m\u001b[39m'\u001b[39m: loss, \u001b[39m'\u001b[39m\u001b[39mCurrent_return\u001b[39m\u001b[39m'\u001b[39m: total_cur_return, \u001b[39m'\u001b[39m\u001b[39mn_episode\u001b[39m\u001b[39m'\u001b[39m: i}) \u001b[39m#, 'batch': t})\u001b[39;00m\n\u001b[1;32m     51\u001b[0m optimizer\u001b[39m.\u001b[39mzero_grad()\n\u001b[0;32m---> 52\u001b[0m loss\u001b[39m.\u001b[39;49mbackward()\n\u001b[1;32m     53\u001b[0m optimizer\u001b[39m.\u001b[39mstep()\n\u001b[1;32m     55\u001b[0m \u001b[39mprint\u001b[39m(\u001b[39mf\u001b[39m\u001b[39m\"\u001b[39m\u001b[39m\\r\u001b[39;00m\u001b[39mEpisode: \u001b[39m\u001b[39m{\u001b[39;00mi\u001b[39m}\u001b[39;00m\u001b[39m\\t\u001b[39;00m\u001b[39mLoss: \u001b[39m\u001b[39m{\u001b[39;00mloss\u001b[39m}\u001b[39;00m\u001b[39m\\t\u001b[39;00m\u001b[39mCurrent Discounted Return: \u001b[39m\u001b[39m{\u001b[39;00mtotal_cur_return\u001b[39m}\u001b[39;00m\u001b[39m\"\u001b[39m, end\u001b[39m=\u001b[39m\u001b[39m\"\u001b[39m\u001b[39m\"\u001b[39m)\n",
      "File \u001b[0;32m~/opt/anaconda3/envs/toy_diffusion/lib/python3.8/site-packages/torch/_tensor.py:487\u001b[0m, in \u001b[0;36mTensor.backward\u001b[0;34m(self, gradient, retain_graph, create_graph, inputs)\u001b[0m\n\u001b[1;32m    477\u001b[0m \u001b[39mif\u001b[39;00m has_torch_function_unary(\u001b[39mself\u001b[39m):\n\u001b[1;32m    478\u001b[0m     \u001b[39mreturn\u001b[39;00m handle_torch_function(\n\u001b[1;32m    479\u001b[0m         Tensor\u001b[39m.\u001b[39mbackward,\n\u001b[1;32m    480\u001b[0m         (\u001b[39mself\u001b[39m,),\n\u001b[0;32m   (...)\u001b[0m\n\u001b[1;32m    485\u001b[0m         inputs\u001b[39m=\u001b[39minputs,\n\u001b[1;32m    486\u001b[0m     )\n\u001b[0;32m--> 487\u001b[0m torch\u001b[39m.\u001b[39;49mautograd\u001b[39m.\u001b[39;49mbackward(\n\u001b[1;32m    488\u001b[0m     \u001b[39mself\u001b[39;49m, gradient, retain_graph, create_graph, inputs\u001b[39m=\u001b[39;49minputs\n\u001b[1;32m    489\u001b[0m )\n",
      "File \u001b[0;32m~/opt/anaconda3/envs/toy_diffusion/lib/python3.8/site-packages/torch/autograd/__init__.py:200\u001b[0m, in \u001b[0;36mbackward\u001b[0;34m(tensors, grad_tensors, retain_graph, create_graph, grad_variables, inputs)\u001b[0m\n\u001b[1;32m    195\u001b[0m     retain_graph \u001b[39m=\u001b[39m create_graph\n\u001b[1;32m    197\u001b[0m \u001b[39m# The reason we repeat same the comment below is that\u001b[39;00m\n\u001b[1;32m    198\u001b[0m \u001b[39m# some Python versions print out the first line of a multi-line function\u001b[39;00m\n\u001b[1;32m    199\u001b[0m \u001b[39m# calls in the traceback and some print out the last line\u001b[39;00m\n\u001b[0;32m--> 200\u001b[0m Variable\u001b[39m.\u001b[39;49m_execution_engine\u001b[39m.\u001b[39;49mrun_backward(  \u001b[39m# Calls into the C++ engine to run the backward pass\u001b[39;49;00m\n\u001b[1;32m    201\u001b[0m     tensors, grad_tensors_, retain_graph, create_graph, inputs,\n\u001b[1;32m    202\u001b[0m     allow_unreachable\u001b[39m=\u001b[39;49m\u001b[39mTrue\u001b[39;49;00m, accumulate_grad\u001b[39m=\u001b[39;49m\u001b[39mTrue\u001b[39;49;00m)\n",
      "\u001b[0;31mKeyboardInterrupt\u001b[0m: "
     ]
    }
   ],
   "source": [
    "max_steps_per_episode = 500\n",
    "n_episodes = 10000\n",
    "GAMMA = 1\n",
    "R = 35 # Cost of replacement of a machine\n",
    "\n",
    "wandb.config.update({\n",
    "    'max_timesteps_per_episode': max_steps_per_episode,\n",
    "    'num_of_episodes': n_episodes,\n",
    "    'R': R,\n",
    "    'optimizer': 'Adam',\n",
    "    'learning_rate': 'default',\n",
    "    'n_actions': n_actions,\n",
    "    'n_observations': n_observations,\n",
    "})\n",
    "\n",
    "env = Env(R=R)\n",
    "\n",
    "# REINFORCE\n",
    "all_rewards = []\n",
    "for i in range(n_episodes):\n",
    "    episode_rewards = []\n",
    "    episode_log_probs = []\n",
    "    state = env.reset()\n",
    "    for j in range(max_steps_per_episode):\n",
    "        state = torch.tensor([state], dtype=torch.float32, device=device).unsqueeze(0)\n",
    "        # action, log_prob = select_action(state)\n",
    "        action_probs = policy_net(state)\n",
    "        action_dist = torch.distributions.Categorical(action_probs)\n",
    "        action = action_dist.sample()\n",
    "        log_prob = action_dist.log_prob(action)\n",
    "        next_state, reward = env.step(action)\n",
    "        episode_rewards.append(reward)\n",
    "        episode_log_probs.append(log_prob)\n",
    "        state = next_state\n",
    "    all_rewards.append(sum(episode_rewards))\n",
    "    discounted_rewards = []\n",
    "    total_cur_return = 0\n",
    "    for t in range(len(episode_rewards)):\n",
    "        Gt = sum([GAMMA**(k-t-1)*episode_rewards[k] for k in range(t, len(episode_rewards))])\n",
    "        discounted_rewards.append(Gt)\n",
    "        if t==0:\n",
    "            total_cur_return = copy.deepcopy(Gt)\n",
    "    discounted_rewards = torch.tensor(discounted_rewards)\n",
    "    log_probs = torch.stack(episode_log_probs)\n",
    "    loss = (log_probs*discounted_rewards).mean()\n",
    "\n",
    "    # print(f'Log of probs: {log_probs[0:10]}')\n",
    "    # print(f'Discounted returns: {discounted_rewards[0:10]}')\n",
    "\n",
    "    wandb.log({'loss': loss, 'Current_return': total_cur_return, 'n_episode': i}) #, 'batch': t})\n",
    "    optimizer.zero_grad()\n",
    "    loss.backward()\n",
    "    optimizer.step()\n",
    "\n",
    "    print(f\"\\rEpisode: {i}\\tLoss: {loss}\\tCurrent Discounted Return: {total_cur_return}\", end=\"\")\n",
    "\n",
    "    if i%100 == 0:\n",
    "        SAVE_PATH = './checkpoints/REINFORCE/REINFORCE_{}.pt'.format(i)\n",
    "        torch.save(policy_net.state_dict(), SAVE_PATH)\n",
    "    "
   ]
  },
  {
   "cell_type": "code",
   "execution_count": 14,
   "metadata": {},
   "outputs": [
    {
     "name": "stderr",
     "output_type": "stream",
     "text": [
      "                                                             "
     ]
    },
    {
     "name": "stdout",
     "output_type": "stream",
     "text": [
      "1 1 1 1 1 1 1 1 1 1 1 1 0 0 0 0 0 0 0 0 0 0 0 0 0 \n",
      "0 0 0 0 0 0 0 0 0 0 0 0 0 0 0 0 0 0 0 0 0 0 0 0 0 \n",
      "0 0 0 0 0 0 0 0 0 0 0 0 0 0 0 0 0 0 0 0 0 0 0 0 0 \n",
      "0 0 0 0 0 0 0 0 0 0 0 0 0 0 0 0 0 0 0 0 0 0 0 0 0 \n"
     ]
    },
    {
     "name": "stderr",
     "output_type": "stream",
     "text": [
      "\r"
     ]
    }
   ],
   "source": [
    "from test_policy import evaluate_policy, print_policy\n",
    "from tqdm import tqdm\n",
    "from copy import deepcopy\n",
    "import torch\n",
    "\n",
    "NUM_STEPS = 20000\n",
    "\n",
    "best_reward = -torch.inf\n",
    "best_policy = PolicyNetwork(n_observations=1, n_actions=2)\n",
    "\n",
    "# device = torch.device(\"cuda\" if torch.cuda.is_available() else \"cpu\")\n",
    "\n",
    "env = Env(30)\n",
    "for i in tqdm(range(100, NUM_STEPS, 100), desc=\"Evaluating\", leave=False):\n",
    "    LOAD_PATH = f'./checkpoints/REINFORCE/REINFORCE_{i}.pt'\n",
    "    policy_net = PolicyNetwork(1, 2) #.to(device)\n",
    "    checkpoint = torch.load(LOAD_PATH, map_location='cpu')\n",
    "    policy_net.load_state_dict(checkpoint)\n",
    "    reward = evaluate_policy(env=env,  policy=policy_net)\n",
    "    # writer.add_scalar(\"Reward (over policy)\", reward, i)\n",
    "    if reward > best_reward:\n",
    "        best_reward = reward\n",
    "        best_policy = deepcopy(policy_net)\n",
    "\n",
    "print_policy(best_policy)"
   ]
  },
  {
   "cell_type": "code",
   "execution_count": null,
   "metadata": {},
   "outputs": [],
   "source": []
  }
 ],
 "metadata": {
  "kernelspec": {
   "display_name": "toy_diffusion",
   "language": "python",
   "name": "python3"
  },
  "language_info": {
   "codemirror_mode": {
    "name": "ipython",
    "version": 3
   },
   "file_extension": ".py",
   "mimetype": "text/x-python",
   "name": "python",
   "nbconvert_exporter": "python",
   "pygments_lexer": "ipython3",
   "version": "3.8.16"
  },
  "orig_nbformat": 4
 },
 "nbformat": 4,
 "nbformat_minor": 2
}
