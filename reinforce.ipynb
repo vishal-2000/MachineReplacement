{
 "cells": [
  {
   "cell_type": "code",
   "execution_count": 6,
   "metadata": {},
   "outputs": [
    {
     "data": {
      "text/html": [
       "Finishing last run (ID:Reinforce1) before initializing another..."
      ],
      "text/plain": [
       "<IPython.core.display.HTML object>"
      ]
     },
     "metadata": {},
     "output_type": "display_data"
    },
    {
     "data": {
      "text/html": [
       "Waiting for W&B process to finish... <strong style=\"color:green\">(success).</strong>"
      ],
      "text/plain": [
       "<IPython.core.display.HTML object>"
      ]
     },
     "metadata": {},
     "output_type": "display_data"
    },
    {
     "data": {
      "text/html": [
       "<style>\n",
       "    table.wandb td:nth-child(1) { padding: 0 10px; text-align: left ; width: auto;} td:nth-child(2) {text-align: left ; width: 100%}\n",
       "    .wandb-row { display: flex; flex-direction: row; flex-wrap: wrap; justify-content: flex-start; width: 100% }\n",
       "    .wandb-col { display: flex; flex-direction: column; flex-basis: 100%; flex: 1; padding: 10px; }\n",
       "    </style>\n",
       "<div class=\"wandb-row\"><div class=\"wandb-col\"><h3>Run history:</h3><br/><table class=\"wandb\"><tr><td>Current_return</td><td>▇▅▇▆▆▅▆▅▇▅▆▄▆▆▄▄▅▆▄▄▄▅▄▂▁▃▆▃▆█▃▄▇▅▅▆▆▇▅▇</td></tr><tr><td>loss</td><td>▆▆▅▇█▆▅▅▆▆▅▅▆▃▃▂▃▃▂▂▁▂▂▂▂▂▄▃▃▆▄▄▅▄▅▅▇▆▅▅</td></tr><tr><td>n_episode</td><td>▁▁▁▁▂▂▂▂▂▃▃▃▃▃▃▄▄▄▄▄▅▅▅▅▅▅▆▆▆▆▆▇▇▇▇▇▇███</td></tr></table><br/></div><div class=\"wandb-col\"><h3>Run summary:</h3><br/><table class=\"wandb\"><tr><td>Current_return</td><td>-528.15024</td></tr><tr><td>loss</td><td>-303.4014</td></tr><tr><td>n_episode</td><td>2833</td></tr></table><br/></div></div>"
      ],
      "text/plain": [
       "<IPython.core.display.HTML object>"
      ]
     },
     "metadata": {},
     "output_type": "display_data"
    },
    {
     "data": {
      "text/html": [
       " View run <strong style=\"color:#cdcd00\">Reinforce1</strong> at: <a href='https://wandb.ai/clpsyche-team/REINFORCE_MachineReplacement/runs/Reinforce1' target=\"_blank\">https://wandb.ai/clpsyche-team/REINFORCE_MachineReplacement/runs/Reinforce1</a><br/>Synced 5 W&B file(s), 0 media file(s), 0 artifact file(s) and 0 other file(s)"
      ],
      "text/plain": [
       "<IPython.core.display.HTML object>"
      ]
     },
     "metadata": {},
     "output_type": "display_data"
    },
    {
     "data": {
      "text/html": [
       "Find logs at: <code>./wandb/run-20230509_130407-Reinforce1/logs</code>"
      ],
      "text/plain": [
       "<IPython.core.display.HTML object>"
      ]
     },
     "metadata": {},
     "output_type": "display_data"
    },
    {
     "data": {
      "text/html": [
       "Successfully finished last run (ID:Reinforce1). Initializing new run:<br/>"
      ],
      "text/plain": [
       "<IPython.core.display.HTML object>"
      ]
     },
     "metadata": {},
     "output_type": "display_data"
    },
    {
     "data": {
      "text/html": [
       "Tracking run with wandb version 0.15.2"
      ],
      "text/plain": [
       "<IPython.core.display.HTML object>"
      ]
     },
     "metadata": {},
     "output_type": "display_data"
    },
    {
     "data": {
      "text/html": [
       "Run data is saved locally in <code>/home/shivansh/Desktop/College/Spring_23/RL/MachineReplacement/wandb/run-20230509_133739-Reinforce1</code>"
      ],
      "text/plain": [
       "<IPython.core.display.HTML object>"
      ]
     },
     "metadata": {},
     "output_type": "display_data"
    },
    {
     "data": {
      "text/html": [
       "Syncing run <strong><a href='https://wandb.ai/clpsyche-team/REINFORCE_MachineReplacement/runs/Reinforce1' target=\"_blank\">Reinforce1</a></strong> to <a href='https://wandb.ai/clpsyche-team/REINFORCE_MachineReplacement' target=\"_blank\">Weights & Biases</a> (<a href='https://wandb.me/run' target=\"_blank\">docs</a>)<br/>"
      ],
      "text/plain": [
       "<IPython.core.display.HTML object>"
      ]
     },
     "metadata": {},
     "output_type": "display_data"
    },
    {
     "data": {
      "text/html": [
       " View project at <a href='https://wandb.ai/clpsyche-team/REINFORCE_MachineReplacement' target=\"_blank\">https://wandb.ai/clpsyche-team/REINFORCE_MachineReplacement</a>"
      ],
      "text/plain": [
       "<IPython.core.display.HTML object>"
      ]
     },
     "metadata": {},
     "output_type": "display_data"
    },
    {
     "data": {
      "text/html": [
       " View run at <a href='https://wandb.ai/clpsyche-team/REINFORCE_MachineReplacement/runs/Reinforce1' target=\"_blank\">https://wandb.ai/clpsyche-team/REINFORCE_MachineReplacement/runs/Reinforce1</a>"
      ],
      "text/plain": [
       "<IPython.core.display.HTML object>"
      ]
     },
     "metadata": {},
     "output_type": "display_data"
    }
   ],
   "source": [
    "import torch\n",
    "import torch.nn as nn\n",
    "import torch.optim as optim\n",
    "import torch.nn.functional as F\n",
    "import random\n",
    "from env import Env\n",
    "import numpy as np\n",
    "import wandb\n",
    "import copy\n",
    "\n",
    "# wandb setup\n",
    "number = 1\n",
    "NAME = \"Reinforce\" + str(number)\n",
    "ID = \"Reinforce\" + str(number)\n",
    "run = wandb.init(project='REINFORCE_MachineReplacement', name = NAME, id = ID)\n",
    "\n",
    "device = torch.device(\"cuda\" if torch.cuda.is_available() else \"cpu\")"
   ]
  },
  {
   "cell_type": "code",
   "execution_count": 7,
   "metadata": {},
   "outputs": [],
   "source": [
    "# Define the policy network\n",
    "class PolicyNetwork(nn.Module):\n",
    "    def __init__(self, n_observations, n_actions):\n",
    "        super(PolicyNetwork, self).__init__()\n",
    "        self.layer1 = nn.Linear(n_observations, 16)\n",
    "        self.layer2 = nn.Linear(16, 16)\n",
    "        self.layer3 = nn.Linear(16, n_actions)\n",
    "\n",
    "    def forward(self, state):\n",
    "        x = F.relu(self.layer1(state))\n",
    "        x = F.relu(self.layer2(x))\n",
    "        output = F.softmax(self.layer3(x))\n",
    "        return output"
   ]
  },
  {
   "cell_type": "code",
   "execution_count": 8,
   "metadata": {},
   "outputs": [],
   "source": [
    "n_actions = 2\n",
    "n_observations = 1\n",
    "\n",
    "policy_net = PolicyNetwork(n_observations=n_observations, n_actions=n_actions).to(device)\n",
    "optimizer = optim.Adam(policy_net.parameters())\n",
    "steps_done = 0\n",
    "\n",
    "def select_action(state):\n",
    "    global steps_done\n",
    "    steps_done += 1\n",
    "    with torch.no_grad():\n",
    "        action_probs = policy_net(state)\n",
    "        action_dist = torch.distributions.Categorical(action_probs)\n",
    "        action = action_dist.sample()\n",
    "        log_prob = action_dist.log_prob(action)\n",
    "        return action, log_prob"
   ]
  },
  {
   "cell_type": "code",
   "execution_count": 9,
   "metadata": {},
   "outputs": [
    {
     "name": "stderr",
     "output_type": "stream",
     "text": [
      "/tmp/ipykernel_98183/1895194210.py:12: UserWarning: Implicit dimension choice for softmax has been deprecated. Change the call to include dim=X as an argument.\n",
      "  output = F.softmax(self.layer3(x))\n"
     ]
    },
    {
     "name": "stdout",
     "output_type": "stream",
     "text": [
      "Episode: 199\tLoss: -80.01092529296875\tCurrent Discounted Return: -209.93143693484947"
     ]
    }
   ],
   "source": [
    "max_steps_per_episode = 50\n",
    "n_episodes = 200\n",
    "GAMMA = 0.99\n",
    "R = 3.5 # Cost of replacement of a machine\n",
    "\n",
    "wandb.config.update({\n",
    "    'max_timesteps_per_episode': max_steps_per_episode,\n",
    "    'num_of_episodes': n_episodes,\n",
    "    'R': R,\n",
    "    'optimizer': 'Adam',\n",
    "    'learning_rate': 'default',\n",
    "    'n_actions': n_actions,\n",
    "    'n_observations': n_observations,\n",
    "})\n",
    "\n",
    "env = Env(R=R)\n",
    "\n",
    "# REINFORCE\n",
    "all_rewards = []\n",
    "for i in range(n_episodes):\n",
    "    episode_rewards = []\n",
    "    episode_log_probs = []\n",
    "    state = env.reset()\n",
    "    for j in range(max_steps_per_episode):\n",
    "        state = torch.tensor([state], dtype=torch.float32, device=device).unsqueeze(0)\n",
    "        # action, log_prob = select_action(state)\n",
    "        action_probs = policy_net(state)\n",
    "        action_dist = torch.distributions.Categorical(action_probs)\n",
    "        action = action_dist.sample()\n",
    "        log_prob = action_dist.log_prob(action)\n",
    "        next_state, reward = env.step(action)\n",
    "        episode_rewards.append(reward)\n",
    "        episode_log_probs.append(log_prob)\n",
    "        state = next_state\n",
    "    all_rewards.append(sum(episode_rewards))\n",
    "    discounted_rewards = []\n",
    "    total_cur_return = 0\n",
    "    for t in range(len(episode_rewards)):\n",
    "        Gt = sum([GAMMA**(k-t-1)*episode_rewards[k] for k in range(t, len(episode_rewards))])\n",
    "        discounted_rewards.append(Gt)\n",
    "        if t==0:\n",
    "            total_cur_return = copy.deepcopy(Gt)\n",
    "    discounted_rewards = torch.tensor(discounted_rewards)\n",
    "    log_probs = torch.stack(episode_log_probs)\n",
    "    loss = -(log_probs*discounted_rewards).mean()\n",
    "\n",
    "    wandb.log({'loss': loss, 'Current_return': total_cur_return, 'n_episode': i}) #, 'batch': t})\n",
    "    optimizer.zero_grad()\n",
    "    loss.backward()\n",
    "    optimizer.step()\n",
    "\n",
    "    print(f\"\\rEpisode: {i}\\tLoss: {loss}\\tCurrent Discounted Return: {total_cur_return}\", end=\"\")\n",
    "\n",
    "    if i%100 == 0:\n",
    "        SAVE_PATH = './checkpoints/REINFORCE/REINFORCE_{}.pt'.format(i)\n",
    "        torch.save(policy_net.state_dict(), SAVE_PATH)\n",
    "    "
   ]
  },
  {
   "cell_type": "code",
   "execution_count": 11,
   "metadata": {},
   "outputs": [
    {
     "ename": "TypeError",
     "evalue": "expected np.ndarray (got tuple)",
     "output_type": "error",
     "traceback": [
      "\u001b[0;31m---------------------------------------------------------------------------\u001b[0m",
      "\u001b[0;31mTypeError\u001b[0m                                 Traceback (most recent call last)",
      "Cell \u001b[0;32mIn[11], line 65\u001b[0m\n\u001b[1;32m     62\u001b[0m     \u001b[39mprint\u001b[39m(\u001b[39m\"\u001b[39m\u001b[39mAverage reward over \u001b[39m\u001b[39m{}\u001b[39;00m\u001b[39m episodes: \u001b[39m\u001b[39m{}\u001b[39;00m\u001b[39m\"\u001b[39m\u001b[39m.\u001b[39mformat(n_episodes, np\u001b[39m.\u001b[39mmean(rewards)))\n\u001b[1;32m     64\u001b[0m \u001b[39mif\u001b[39;00m \u001b[39m__name__\u001b[39m \u001b[39m==\u001b[39m \u001b[39m'\u001b[39m\u001b[39m__main__\u001b[39m\u001b[39m'\u001b[39m:\n\u001b[0;32m---> 65\u001b[0m     main()\n",
      "Cell \u001b[0;32mIn[11], line 61\u001b[0m, in \u001b[0;36mmain\u001b[0;34m()\u001b[0m\n\u001b[1;32m     59\u001b[0m n_episodes \u001b[39m=\u001b[39m \u001b[39m1000\u001b[39m\n\u001b[1;32m     60\u001b[0m max_steps \u001b[39m=\u001b[39m \u001b[39m200\u001b[39m\n\u001b[0;32m---> 61\u001b[0m rewards \u001b[39m=\u001b[39m reinforce(env, policy_net, gamma, n_episodes, max_steps)\n\u001b[1;32m     62\u001b[0m \u001b[39mprint\u001b[39m(\u001b[39m\"\u001b[39m\u001b[39mAverage reward over \u001b[39m\u001b[39m{}\u001b[39;00m\u001b[39m episodes: \u001b[39m\u001b[39m{}\u001b[39;00m\u001b[39m\"\u001b[39m\u001b[39m.\u001b[39mformat(n_episodes, np\u001b[39m.\u001b[39mmean(rewards)))\n",
      "Cell \u001b[0;32mIn[11], line 29\u001b[0m, in \u001b[0;36mreinforce\u001b[0;34m(env, policy_net, gamma, n_episodes, max_steps)\u001b[0m\n\u001b[1;32m     27\u001b[0m state \u001b[39m=\u001b[39m env\u001b[39m.\u001b[39mreset()\n\u001b[1;32m     28\u001b[0m \u001b[39mfor\u001b[39;00m t \u001b[39min\u001b[39;00m \u001b[39mrange\u001b[39m(max_steps):\n\u001b[0;32m---> 29\u001b[0m     action_probs \u001b[39m=\u001b[39m policy_net(torch\u001b[39m.\u001b[39;49mfrom_numpy(state)\u001b[39m.\u001b[39mfloat())\n\u001b[1;32m     30\u001b[0m     action_dist \u001b[39m=\u001b[39m torch\u001b[39m.\u001b[39mdistributions\u001b[39m.\u001b[39mCategorical(action_probs)\n\u001b[1;32m     31\u001b[0m     action \u001b[39m=\u001b[39m action_dist\u001b[39m.\u001b[39msample()\n",
      "\u001b[0;31mTypeError\u001b[0m: expected np.ndarray (got tuple)"
     ]
    }
   ],
   "source": [
    "import gym\n",
    "import torch\n",
    "import torch.nn as nn\n",
    "import torch.optim as optim\n",
    "import numpy as np\n",
    "\n",
    "# Define the policy network\n",
    "class PolicyNetwork(nn.Module):\n",
    "    def __init__(self, n_inputs, n_hidden, n_outputs, learning_rate):\n",
    "        super(PolicyNetwork, self).__init__()\n",
    "        self.hidden_layer = nn.Linear(n_inputs, n_hidden)\n",
    "        self.output_layer = nn.Linear(n_hidden, n_outputs)\n",
    "        self.learning_rate = learning_rate\n",
    "\n",
    "    def forward(self, state):\n",
    "        hidden = torch.tanh(self.hidden_layer(state))\n",
    "        output = torch.softmax(self.output_layer(hidden), dim=-1)\n",
    "        return output\n",
    "\n",
    "# Define the REINFORCE algorithm\n",
    "def reinforce(env, policy_net, gamma, n_episodes, max_steps):\n",
    "    optimizer = optim.Adam(policy_net.parameters(), lr=policy_net.learning_rate)\n",
    "    all_rewards = []\n",
    "    for i in range(n_episodes):\n",
    "        episode_rewards = []\n",
    "        episode_log_probs = []\n",
    "        state = env.reset()\n",
    "        for t in range(max_steps):\n",
    "            action_probs = policy_net(torch.from_numpy(state).float())\n",
    "            action_dist = torch.distributions.Categorical(action_probs)\n",
    "            action = action_dist.sample()\n",
    "            log_prob = action_dist.log_prob(action)\n",
    "            next_state, reward, done, _ = env.step(action.item())\n",
    "            episode_rewards.append(reward)\n",
    "            episode_log_probs.append(log_prob)\n",
    "            state = next_state\n",
    "            if done:\n",
    "                break\n",
    "        all_rewards.append(sum(episode_rewards))\n",
    "        discounted_rewards = []\n",
    "        for t in range(len(episode_rewards)):\n",
    "            Gt = sum([gamma**(k-t-1)*episode_rewards[k] for k in range(t, len(episode_rewards))])\n",
    "            discounted_rewards.append(Gt)\n",
    "        discounted_rewards = torch.tensor(discounted_rewards)\n",
    "        log_probs = torch.stack(episode_log_probs)\n",
    "        loss = -(log_probs*discounted_rewards).mean()\n",
    "        optimizer.zero_grad()\n",
    "        loss.backward()\n",
    "        optimizer.step()\n",
    "    return all_rewards\n",
    "\n",
    "# Define the main function to train and test the policy network\n",
    "def main():\n",
    "    env = gym.make('CartPole-v0')\n",
    "    n_inputs = env.observation_space.shape[0]\n",
    "    n_outputs = env.action_space.n\n",
    "    policy_net = PolicyNetwork(n_inputs, 32, n_outputs, 0.001)\n",
    "    gamma = 0.99\n",
    "    n_episodes = 1000\n",
    "    max_steps = 200\n",
    "    rewards = reinforce(env, policy_net, gamma, n_episodes, max_steps)\n",
    "    print(\"Average reward over {} episodes: {}\".format(n_episodes, np.mean(rewards)))\n",
    "\n",
    "if __name__ == '__main__':\n",
    "    main()\n"
   ]
  }
 ],
 "metadata": {
  "kernelspec": {
   "display_name": "toy_diffusion",
   "language": "python",
   "name": "python3"
  },
  "language_info": {
   "codemirror_mode": {
    "name": "ipython",
    "version": 3
   },
   "file_extension": ".py",
   "mimetype": "text/x-python",
   "name": "python",
   "nbconvert_exporter": "python",
   "pygments_lexer": "ipython3",
   "version": "3.8.16"
  },
  "orig_nbformat": 4
 },
 "nbformat": 4,
 "nbformat_minor": 2
}
