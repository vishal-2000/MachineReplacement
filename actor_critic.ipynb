{
 "cells": [
  {
   "cell_type": "code",
   "execution_count": 1,
   "metadata": {},
   "outputs": [
    {
     "name": "stderr",
     "output_type": "stream",
     "text": [
      "Failed to detect the name of this notebook, you can set it manually with the WANDB_NOTEBOOK_NAME environment variable to enable code saving.\n",
      "\u001b[34m\u001b[1mwandb\u001b[0m: Currently logged in as: \u001b[33mvishalrm\u001b[0m. Use \u001b[1m`wandb login --relogin`\u001b[0m to force relogin\n"
     ]
    },
    {
     "data": {
      "text/html": [
       "Tracking run with wandb version 0.15.2"
      ],
      "text/plain": [
       "<IPython.core.display.HTML object>"
      ]
     },
     "metadata": {},
     "output_type": "display_data"
    },
    {
     "data": {
      "text/html": [
       "Run data is saved locally in <code>/Users/vishal/Desktop/acads/Intro to RL/codes/MachineReplacement/wandb/run-20230510_173028-A2C1</code>"
      ],
      "text/plain": [
       "<IPython.core.display.HTML object>"
      ]
     },
     "metadata": {},
     "output_type": "display_data"
    },
    {
     "data": {
      "text/html": [
       "Syncing run <strong><a href='https://wandb.ai/vishalrm/actorcritic_MachineReplacement/runs/A2C1' target=\"_blank\">A2C1</a></strong> to <a href='https://wandb.ai/vishalrm/actorcritic_MachineReplacement' target=\"_blank\">Weights & Biases</a> (<a href='https://wandb.me/run' target=\"_blank\">docs</a>)<br/>"
      ],
      "text/plain": [
       "<IPython.core.display.HTML object>"
      ]
     },
     "metadata": {},
     "output_type": "display_data"
    },
    {
     "data": {
      "text/html": [
       " View project at <a href='https://wandb.ai/vishalrm/actorcritic_MachineReplacement' target=\"_blank\">https://wandb.ai/vishalrm/actorcritic_MachineReplacement</a>"
      ],
      "text/plain": [
       "<IPython.core.display.HTML object>"
      ]
     },
     "metadata": {},
     "output_type": "display_data"
    },
    {
     "data": {
      "text/html": [
       " View run at <a href='https://wandb.ai/vishalrm/actorcritic_MachineReplacement/runs/A2C1' target=\"_blank\">https://wandb.ai/vishalrm/actorcritic_MachineReplacement/runs/A2C1</a>"
      ],
      "text/plain": [
       "<IPython.core.display.HTML object>"
      ]
     },
     "metadata": {},
     "output_type": "display_data"
    }
   ],
   "source": [
    "import torch\n",
    "import torch.nn as nn\n",
    "import torch.optim as optim\n",
    "import torch.nn.functional as F\n",
    "import random\n",
    "from env import Env\n",
    "import numpy as np\n",
    "import wandb\n",
    "import copy\n",
    "\n",
    "# wandb setup\n",
    "number = 1\n",
    "NAME = \"A2C\" + str(number)\n",
    "ID = \"A2C\" + str(number)\n",
    "run = wandb.init(project='actorcritic_MachineReplacement', name = NAME, id = ID)\n",
    "\n",
    "device = torch.device(\"cuda\" if torch.cuda.is_available() else \"cpu\")"
   ]
  },
  {
   "cell_type": "code",
   "execution_count": 2,
   "metadata": {},
   "outputs": [],
   "source": [
    "class PolicyNetwork(nn.Module):\n",
    "    def __init__(self, n_obs, n_act):\n",
    "        super(PolicyNetwork, self).__init__()\n",
    "\n",
    "        self.layer = nn.Linear(n_obs, 16)\n",
    "        self.actor = nn.Linear(16, n_act)\n",
    "        self.critic = nn.Linear(16, 1)\n",
    "\n",
    "    def forward(self, state):\n",
    "        x = self.layer(state)\n",
    "        x = F.relu(x)\n",
    "        action_prob = F.softmax(self.actor(x), dim=-1)\n",
    "        state_vals = self.critic(x)\n",
    "\n",
    "        return action_prob, state_vals"
   ]
  },
  {
   "cell_type": "code",
   "execution_count": 3,
   "metadata": {},
   "outputs": [],
   "source": [
    "n_obs = 1\n",
    "n_act = 2\n",
    "\n",
    "model_policy = PolicyNetwork(n_obs=n_obs, n_act=n_act).to(device)\n",
    "optimizer = optim.Adam(model_policy.parameters(), lr=3e-2)\n",
    "steps_done = 0\n",
    "\n",
    "def select_action(state):\n",
    "    global steps_done\n",
    "    steps_done += 1\n",
    "    with torch.no_grad():\n",
    "        action_probs, state_val = model_policy(state)\n",
    "        action_dist = torch.distributions.Categorical(action_probs)\n",
    "\n",
    "        action = action_dist.sample()\n",
    "        logprob = action_dist.log_prob(action)\n",
    "\n",
    "        return action, logprob, state_val"
   ]
  },
  {
   "cell_type": "code",
   "execution_count": 4,
   "metadata": {},
   "outputs": [],
   "source": [
    "max_steps_per_episode = 500\n",
    "n_episodes = 20000\n",
    "GAMMA = 0.99\n",
    "R = 4 # Cost of replacement of a machine\n",
    "\n",
    "wandb.config.update({\n",
    "    'max_timesteps_per_episode': max_steps_per_episode,\n",
    "    'num_of_episodes': n_episodes,\n",
    "    'R': R,\n",
    "    'optimizer': 'Adam',\n",
    "    'learning_rate': 'default',\n",
    "    'n_actions': n_act,\n",
    "    'n_observations': n_obs,\n",
    "})\n",
    "\n",
    "env = Env(R=R)"
   ]
  },
  {
   "cell_type": "code",
   "execution_count": 5,
   "metadata": {},
   "outputs": [
    {
     "name": "stdout",
     "output_type": "stream",
     "text": [
      "Episode: 19999\tLoss: 9.62893245741725e-05\tCurrent Discounted Return: -966.301573155169683"
     ]
    }
   ],
   "source": [
    "all_rewards = []\n",
    "for i in range(n_episodes):\n",
    "    episode_rewards = []\n",
    "    episode_log_probs = []\n",
    "    state = env.reset()\n",
    "    for j in range(max_steps_per_episode):\n",
    "\n",
    "        state = torch.tensor([state], dtype=torch.float32, device=device).unsqueeze(0)\n",
    "        action_probs, state_val = model_policy(state)\n",
    "        action_disr = torch.distributions.Categorical(action_probs)\n",
    "        action = action_disr.sample()\n",
    "        logprob = action_disr.log_prob(action)\n",
    "        next_state, reward = env.step(action)\n",
    "        episode_rewards.append(reward)\n",
    "        episode_log_probs.append(logprob)\n",
    "        state = next_state\n",
    "\n",
    "    all_rewards.append(sum(episode_rewards))\n",
    "    discounted_rewards = []\n",
    "    total_cur_return = 0\n",
    "    for t in range(len(episode_log_probs)):\n",
    "        Gt = sum([GAMMA**(k-t-1)*episode_rewards[k] for k in range(t, len(episode_rewards))])\n",
    "        discounted_rewards.append(Gt)\n",
    "        if t == 0:\n",
    "            total_cur_return = copy.deepcopy(Gt)\n",
    "    discounted_rewards = torch.tensor(discounted_rewards)\n",
    "    logprob = torch.stack(episode_log_probs)\n",
    "    loss = (logprob*discounted_rewards).mean() # -(logprob*discounted_rewards).mean()\n",
    "\n",
    "    wandb.log({'loss': loss, 'Current_return': total_cur_return, 'n_episode': i}) #, 'batch': t})\n",
    "    optimizer.zero_grad()\n",
    "    loss.backward()\n",
    "    optimizer.step()\n",
    "\n",
    "    print(f\"\\rEpisode: {i}\\tLoss: {loss}\\tCurrent Discounted Return: {total_cur_return}\", end=\"\")\n",
    "\n",
    "    if i%100 == 0:\n",
    "        SAVE_PATH = './checkpoints/AC/AC_{}.pt'.format(i)\n",
    "        torch.save(model_policy.state_dict(), SAVE_PATH)"
   ]
  },
  {
   "cell_type": "code",
   "execution_count": null,
   "metadata": {},
   "outputs": [],
   "source": []
  }
 ],
 "metadata": {
  "kernelspec": {
   "display_name": "Python 3",
   "language": "python",
   "name": "python3"
  },
  "language_info": {
   "codemirror_mode": {
    "name": "ipython",
    "version": 3
   },
   "file_extension": ".py",
   "mimetype": "text/x-python",
   "name": "python",
   "nbconvert_exporter": "python",
   "pygments_lexer": "ipython3",
   "version": "3.8.16"
  },
  "orig_nbformat": 4
 },
 "nbformat": 4,
 "nbformat_minor": 2
}
